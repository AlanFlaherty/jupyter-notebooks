{
 "cells": [
  {
   "cell_type": "markdown",
   "metadata": {
    "collapsed": true
   },
   "source": [
    "## C 101 Notebook - Variables ##\n",
    "\n",
    "Integers"
   ]
  },
  {
   "cell_type": "code",
   "execution_count": 8,
   "metadata": {},
   "outputs": [],
   "source": [
    "#include <limits.h>\n",
    "#include <stdio.h>\n",
    "#include <stdlib.h>\n",
    "\n",
    "int i = 0;\n",
    "int j = INT_MIN;\n",
    "int k = INT_MAX;\n",
    "\n",
    "int main()\n",
    "{\n",
    "    printf ( \"INT MIN: %d, INT MAX: %d\",j, k );\n",
    "}"
   ]
  },
  {
   "cell_type": "code",
   "execution_count": 19,
   "metadata": {},
   "outputs": [],
   "source": [
    "#include <limits.h>\n",
    "#include <stdio.h>\n",
    "#include <stdlib.h>\n",
    "\n",
    "int main()\n",
    "{\n",
    "    int i = 1;\n",
    "    printf(\"i++: %d\\n\", i++);\n",
    "    printf(\"i after: %d\\n\", i);\n",
    "}"
   ]
  },
  {
   "cell_type": "markdown",
   "metadata": {},
   "source": [
    "Longs"
   ]
  },
  {
   "cell_type": "code",
   "execution_count": 25,
   "metadata": {},
   "outputs": [],
   "source": [
    "#include <limits.h>\n",
    "#include <stdio.h>\n",
    "#include <stdlib.h>\n",
    "\n",
    "long i = 0;\n",
    "\n",
    "int main()\n",
    "{\n",
    "    printf ( \"LONG MIN: %d, LONG MAX: %d\\n\", LONG_MIN, LONG_MAX );\n",
    "    printf ( \"LLONG MIN: %d, LLONG MAX: %d\\n\", LLONG_MIN, LLONG_MAX );\n",
    "}\n"
   ]
  },
  {
   "cell_type": "code",
   "execution_count": null,
   "metadata": {
    "collapsed": true
   },
   "outputs": [],
   "source": []
  }
 ],
 "metadata": {
  "kernelspec": {
   "display_name": "C",
   "language": "c",
   "name": "c_spec"
  },
  "language_info": {
   "file_extension": "c",
   "mimetype": "text/plain",
   "name": "c"
  }
 },
 "nbformat": 4,
 "nbformat_minor": 2
}
